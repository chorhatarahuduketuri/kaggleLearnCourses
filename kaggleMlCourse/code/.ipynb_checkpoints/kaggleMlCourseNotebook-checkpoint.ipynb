{
 "cells": [
  {
   "cell_type": "code",
   "execution_count": 1,
   "metadata": {
    "scrolled": false
   },
   "outputs": [
    {
     "name": "stdout",
     "output_type": "stream",
     "text": [
      "              Rooms         Price      Distance      Postcode      Bedroom2  \\\n",
      "count  13580.000000  1.358000e+04  13580.000000  13580.000000  13580.000000   \n",
      "mean       2.937997  1.075684e+06     10.137776   3105.301915      2.914728   \n",
      "std        0.955748  6.393107e+05      5.868725     90.676964      0.965921   \n",
      "min        1.000000  8.500000e+04      0.000000   3000.000000      0.000000   \n",
      "25%        2.000000  6.500000e+05      6.100000   3044.000000      2.000000   \n",
      "50%        3.000000  9.030000e+05      9.200000   3084.000000      3.000000   \n",
      "75%        3.000000  1.330000e+06     13.000000   3148.000000      3.000000   \n",
      "max       10.000000  9.000000e+06     48.100000   3977.000000     20.000000   \n",
      "\n",
      "           Bathroom           Car       Landsize  BuildingArea    YearBuilt  \\\n",
      "count  13580.000000  13518.000000   13580.000000   7130.000000  8205.000000   \n",
      "mean       1.534242      1.610075     558.416127    151.967650  1964.684217   \n",
      "std        0.691712      0.962634    3990.669241    541.014538    37.273762   \n",
      "min        0.000000      0.000000       0.000000      0.000000  1196.000000   \n",
      "25%        1.000000      1.000000     177.000000     93.000000  1940.000000   \n",
      "50%        1.000000      2.000000     440.000000    126.000000  1970.000000   \n",
      "75%        2.000000      2.000000     651.000000    174.000000  1999.000000   \n",
      "max        8.000000     10.000000  433014.000000  44515.000000  2018.000000   \n",
      "\n",
      "          Lattitude    Longtitude  Propertycount  \n",
      "count  13580.000000  13580.000000   13580.000000  \n",
      "mean     -37.809203    144.995216    7454.417378  \n",
      "std        0.079260      0.103916    4378.581772  \n",
      "min      -38.182550    144.431810     249.000000  \n",
      "25%      -37.856822    144.929600    4380.000000  \n",
      "50%      -37.802355    145.000100    6555.000000  \n",
      "75%      -37.756400    145.058305   10331.000000  \n",
      "max      -37.408530    145.526350   21650.000000  \n"
     ]
    }
   ],
   "source": [
    "# Starting Your ML Project\n",
    "import pandas as pd\n",
    "\n",
    "melbourne_file_path = '../input/melbourne-housing-snapshot/melb_data.csv'\n",
    "melbourne_data = pd.read_csv(melbourne_file_path)\n",
    "print(melbourne_data.describe())"
   ]
  },
  {
   "cell_type": "code",
   "execution_count": 2,
   "metadata": {},
   "outputs": [
    {
     "name": "stdout",
     "output_type": "stream",
     "text": [
      "Index(['Id', 'MSSubClass', 'MSZoning', 'LotFrontage', 'LotArea', 'Street',\n",
      "       'Alley', 'LotShape', 'LandContour', 'Utilities', 'LotConfig',\n",
      "       'LandSlope', 'Neighborhood', 'Condition1', 'Condition2', 'BldgType',\n",
      "       'HouseStyle', 'OverallQual', 'OverallCond', 'YearBuilt', 'YearRemodAdd',\n",
      "       'RoofStyle', 'RoofMatl', 'Exterior1st', 'Exterior2nd', 'MasVnrType',\n",
      "       'MasVnrArea', 'ExterQual', 'ExterCond', 'Foundation', 'BsmtQual',\n",
      "       'BsmtCond', 'BsmtExposure', 'BsmtFinType1', 'BsmtFinSF1',\n",
      "       'BsmtFinType2', 'BsmtFinSF2', 'BsmtUnfSF', 'TotalBsmtSF', 'Heating',\n",
      "       'HeatingQC', 'CentralAir', 'Electrical', '1stFlrSF', '2ndFlrSF',\n",
      "       'LowQualFinSF', 'GrLivArea', 'BsmtFullBath', 'BsmtHalfBath', 'FullBath',\n",
      "       'HalfBath', 'BedroomAbvGr', 'KitchenAbvGr', 'KitchenQual',\n",
      "       'TotRmsAbvGrd', 'Functional', 'Fireplaces', 'FireplaceQu', 'GarageType',\n",
      "       'GarageYrBlt', 'GarageFinish', 'GarageCars', 'GarageArea', 'GarageQual',\n",
      "       'GarageCond', 'PavedDrive', 'WoodDeckSF', 'OpenPorchSF',\n",
      "       'EnclosedPorch', '3SsnPorch', 'ScreenPorch', 'PoolArea', 'PoolQC',\n",
      "       'Fence', 'MiscFeature', 'MiscVal', 'MoSold', 'YrSold', 'SaleType',\n",
      "       'SaleCondition', 'SalePrice'],\n",
      "      dtype='object')\n",
      "0    208500\n",
      "1    181500\n",
      "2    223500\n",
      "3    140000\n",
      "4    250000\n",
      "Name: SalePrice, dtype: int64\n"
     ]
    },
    {
     "data": {
      "text/html": [
       "<div>\n",
       "<style scoped>\n",
       "    .dataframe tbody tr th:only-of-type {\n",
       "        vertical-align: middle;\n",
       "    }\n",
       "\n",
       "    .dataframe tbody tr th {\n",
       "        vertical-align: top;\n",
       "    }\n",
       "\n",
       "    .dataframe thead th {\n",
       "        text-align: right;\n",
       "    }\n",
       "</style>\n",
       "<table border=\"1\" class=\"dataframe\">\n",
       "  <thead>\n",
       "    <tr style=\"text-align: right;\">\n",
       "      <th></th>\n",
       "      <th>MSSubClass</th>\n",
       "      <th>OverallCond</th>\n",
       "    </tr>\n",
       "  </thead>\n",
       "  <tbody>\n",
       "    <tr>\n",
       "      <th>count</th>\n",
       "      <td>1460.000000</td>\n",
       "      <td>1460.000000</td>\n",
       "    </tr>\n",
       "    <tr>\n",
       "      <th>mean</th>\n",
       "      <td>56.897260</td>\n",
       "      <td>5.575342</td>\n",
       "    </tr>\n",
       "    <tr>\n",
       "      <th>std</th>\n",
       "      <td>42.300571</td>\n",
       "      <td>1.112799</td>\n",
       "    </tr>\n",
       "    <tr>\n",
       "      <th>min</th>\n",
       "      <td>20.000000</td>\n",
       "      <td>1.000000</td>\n",
       "    </tr>\n",
       "    <tr>\n",
       "      <th>25%</th>\n",
       "      <td>20.000000</td>\n",
       "      <td>5.000000</td>\n",
       "    </tr>\n",
       "    <tr>\n",
       "      <th>50%</th>\n",
       "      <td>50.000000</td>\n",
       "      <td>5.000000</td>\n",
       "    </tr>\n",
       "    <tr>\n",
       "      <th>75%</th>\n",
       "      <td>70.000000</td>\n",
       "      <td>6.000000</td>\n",
       "    </tr>\n",
       "    <tr>\n",
       "      <th>max</th>\n",
       "      <td>190.000000</td>\n",
       "      <td>9.000000</td>\n",
       "    </tr>\n",
       "  </tbody>\n",
       "</table>\n",
       "</div>"
      ],
      "text/plain": [
       "        MSSubClass  OverallCond\n",
       "count  1460.000000  1460.000000\n",
       "mean     56.897260     5.575342\n",
       "std      42.300571     1.112799\n",
       "min      20.000000     1.000000\n",
       "25%      20.000000     5.000000\n",
       "50%      50.000000     5.000000\n",
       "75%      70.000000     6.000000\n",
       "max     190.000000     9.000000"
      ]
     },
     "execution_count": 2,
     "metadata": {},
     "output_type": "execute_result"
    }
   ],
   "source": [
    "# Selecting and Filtering in Pandas\n",
    "import pandas as pd\n",
    "\n",
    "file_path = '../input/house-prices-advanced-regression-techniques/train.csv'\n",
    "data = pd.read_csv(file_path)\n",
    "print(data.columns)\n",
    "\n",
    "price_data = data.SalePrice\n",
    "print(price_data.head())\n",
    "\n",
    "columns_of_interest = ['MSSubClass', 'OverallCond']\n",
    "two_columns_of_data = data[columns_of_interest]\n",
    "\n",
    "two_columns_of_data.describe()"
   ]
  },
  {
   "cell_type": "code",
   "execution_count": 3,
   "metadata": {},
   "outputs": [
    {
     "name": "stdout",
     "output_type": "stream",
     "text": [
      "Making predictions for the following 5 houses:\n",
      "   LotArea  YearBuilt  1stFlrSF  2ndFlrSF  FullBath  BedroomAbvGr  \\\n",
      "0     8450       2003       856       854         2             3   \n",
      "1     9600       1976      1262         0         2             3   \n",
      "2    11250       2001       920       866         2             3   \n",
      "3     9550       1915       961       756         1             3   \n",
      "4    14260       2000      1145      1053         2             4   \n",
      "\n",
      "   TotRmsAbvGrd  \n",
      "0             8  \n",
      "1             6  \n",
      "2             6  \n",
      "3             7  \n",
      "4             9  \n",
      "The predictions are\n",
      "[208500. 181500. 223500. 140000. 250000.]\n"
     ]
    }
   ],
   "source": [
    "# Your First Scikit-Learn Model\n",
    "y = data.SalePrice\n",
    "\n",
    "predictors = ['LotArea', 'YearBuilt', '1stFlrSF', '2ndFlrSF', 'FullBath', 'BedroomAbvGr', 'TotRmsAbvGrd']\n",
    "\n",
    "X = data[predictors]\n",
    "\n",
    "from sklearn.tree import DecisionTreeRegressor\n",
    "model = DecisionTreeRegressor()\n",
    "model.fit(X, y)\n",
    "\n",
    "print(\"Making predictions for the following 5 houses:\")\n",
    "print(X.head())\n",
    "print(\"The predictions are\")\n",
    "print(model.predict(X.head()))"
   ]
  },
  {
   "cell_type": "code",
   "execution_count": 4,
   "metadata": {},
   "outputs": [
    {
     "name": "stdout",
     "output_type": "stream",
     "text": [
      "33811.654794520546\n"
     ]
    }
   ],
   "source": [
    "# Model Validation\n",
    "from sklearn.model_selection import train_test_split\n",
    "\n",
    "xTrain, xValidate, yTrain, yValidate = train_test_split(X, y, random_state=0)\n",
    "model.fit(xTrain, yTrain)\n",
    "predictions = model.predict(xValidate)\n",
    "\n",
    "\n",
    "from sklearn.metrics import mean_absolute_error\n",
    "\n",
    "print(mean_absolute_error(yValidate, predictions))"
   ]
  },
  {
   "cell_type": "code",
   "execution_count": 5,
   "metadata": {},
   "outputs": [
    {
     "name": "stdout",
     "output_type": "stream",
     "text": [
      "Max leaf nodes: 5 \t\t Mean Absolute Error: 35190\n",
      "Max leaf nodes: 50 \t\t Mean Absolute Error: 27825\n",
      "Max leaf nodes: 500 \t\t Mean Absolute Error: 32662\n",
      "Max leaf nodes: 5000 \t\t Mean Absolute Error: 33382\n"
     ]
    }
   ],
   "source": [
    "# Underfitting, Overfittting and Model Optimization\n",
    "def get_mae(max_leaf_nodes, predictors_train, predictors_val, targ_train, targ_val):\n",
    "    model = DecisionTreeRegressor(max_leaf_nodes=max_leaf_nodes, random_state=0)\n",
    "    model.fit(predictors_train, targ_train)\n",
    "    preds_val = model.predict(predictors_val)\n",
    "    mae = mean_absolute_error(targ_val, preds_val)\n",
    "    return(mae)\n",
    "\n",
    "for max_leaf_nodes in [5, 50, 500, 5000]:\n",
    "    my_mae = get_mae(max_leaf_nodes, xTrain, xValidate, yTrain, yValidate)\n",
    "    print(\"Max leaf nodes: %d \\t\\t Mean Absolute Error: %d\" %(max_leaf_nodes, my_mae))\n",
    "\n",
    "# Best max_leaf_nodes: 50"
   ]
  },
  {
   "cell_type": "code",
   "execution_count": 6,
   "metadata": {},
   "outputs": [
    {
     "name": "stdout",
     "output_type": "stream",
     "text": [
      "24331.602465753425\n"
     ]
    }
   ],
   "source": [
    "# Random Forests\n",
    "from sklearn.ensemble import RandomForestRegressor\n",
    "\n",
    "forest_model = RandomForestRegressor()\n",
    "forest_model.fit(xTrain, yTrain)\n",
    "forest_preds = forest_model.predict(xValidate)\n",
    "print(mean_absolute_error(yValidate, forest_preds))"
   ]
  },
  {
   "cell_type": "code",
   "execution_count": 7,
   "metadata": {},
   "outputs": [
    {
     "name": "stdout",
     "output_type": "stream",
     "text": [
      "[129950. 182475. 145735. ... 164574. 172400. 248400.]\n"
     ]
    }
   ],
   "source": [
    "# Submitting From A Kernel\n",
    "import numpy as np\n",
    "\n",
    "train = pd.read_csv('../input/house-prices-advanced-regression-techniques/train.csv')\n",
    "\n",
    "train_y = train.SalePrice\n",
    "predictor_cols = ['LotArea', 'OverallQual', 'YearBuilt', 'TotRmsAbvGrd']\n",
    "\n",
    "train_X = train[predictor_cols]\n",
    "\n",
    "my_model = RandomForestRegressor()\n",
    "my_model.fit(train_X, train_y)\n",
    "\n",
    "test = pd.read_csv('../input/house-prices-advanced-regression-techniques/test.csv')\n",
    "test_X = test[predictor_cols]\n",
    "predicted_prices = my_model.predict(test_X)\n",
    "print(predicted_prices)\n",
    "\n",
    "my_submission = pd.DataFrame({'Id': test.Id, 'SalePrice': predicted_prices})\n",
    "my_submission.to_csv('../output/submission.csv', index=False)"
   ]
  },
  {
   "cell_type": "code",
   "execution_count": 8,
   "metadata": {},
   "outputs": [
    {
     "name": "stdout",
     "output_type": "stream",
     "text": [
      "Mean Absolute Error from dropping columns with Missing Values:\n",
      "19666.856621004565\n",
      "Mean Absolute Error from Imputation:\n",
      "18280.928538812783\n",
      "Mean Absolute Error from Imputation while Track What Was Imputed:\n",
      "19069.806392694063\n"
     ]
    }
   ],
   "source": [
    "# Handling Missing Values\n",
    "predictors = data.drop(['SalePrice'], axis=1)\n",
    "numeric_predictors = predictors.select_dtypes(exclude=['object'])\n",
    "\n",
    "X_train, X_test, y_train, y_test = train_test_split(numeric_predictors, y, train_size=0.7, test_size=0.3, random_state=0)\n",
    "\n",
    "def score_dataset(X_train, X_test, y_train, y_test):\n",
    "    model = RandomForestRegressor()\n",
    "    model.fit(X_train, y_train)\n",
    "    preds = model.predict(X_test)\n",
    "    return mean_absolute_error(y_test, preds)\n",
    "\n",
    "# only full columns\n",
    "cols_with_missing = [col for col in X_train.columns\n",
    "                    if X_train[col].isnull().any()]\n",
    "reduced_X_train = X_train.drop(cols_with_missing, axis=1)\n",
    "reduced_X_test = X_test.drop(cols_with_missing, axis=1)\n",
    "print(\"Mean Absolute Error from dropping columns with Missing Values:\")\n",
    "print(score_dataset(reduced_X_train, reduced_X_test, y_train, y_test))\n",
    "\n",
    "# only imputed columns\n",
    "from sklearn.preprocessing import Imputer\n",
    "\n",
    "my_imputer = Imputer()\n",
    "imputed_X_train = my_imputer.fit_transform(X_train)\n",
    "imputed_X_test = my_imputer.transform(X_test)\n",
    "print(\"Mean Absolute Error from Imputation:\")\n",
    "print(score_dataset(imputed_X_train, imputed_X_test, y_train, y_test))\n",
    "\n",
    "# renaming imputed columns\n",
    "imputed_X_train_plus = X_train.copy()\n",
    "imputed_X_test_plus = X_test.copy()\n",
    "\n",
    "cols_with_missing = (col for col in X_train.columns\n",
    "                    if X_train[col].isnull().any())\n",
    "\n",
    "for col in cols_with_missing:\n",
    "    imputed_X_train_plus[col + '_was_missing'] = imputed_X_train_plus[col].isnull()\n",
    "    imputed_X_test_plus[col + '_was_missing'] = imputed_X_test_plus[col].isnull()\n",
    "\n",
    "my_imputer = Imputer()\n",
    "imputed_X_train_plus = my_imputer.fit_transform(imputed_X_train_plus)\n",
    "imputed_X_test_plus = my_imputer.transform(imputed_X_test_plus)\n",
    "\n",
    "print(\"Mean Absolute Error from Imputation while Track What Was Imputed:\")\n",
    "print(score_dataset(imputed_X_train_plus, imputed_X_test_plus, y_train, y_test))"
   ]
  },
  {
   "cell_type": "code",
   "execution_count": 9,
   "metadata": {},
   "outputs": [
    {
     "name": "stdout",
     "output_type": "stream",
     "text": [
      "Mean Absolute Error: \n",
      "18697.225570776256\n",
      "Negative Mean Cross Validated Absolute Error\n",
      "17763.05756218611\n"
     ]
    }
   ],
   "source": [
    "# Using Categorical Data with One Hot Encoding\n",
    "from sklearn.model_selection import cross_val_score\n",
    "\n",
    "def get_mae(X, y): \n",
    "    return -1 * cross_val_score(RandomForestRegressor(50), \n",
    "                               X, y, \n",
    "                               scoring = 'neg_mean_absolute_error').mean()\n",
    "\n",
    "# get categorical columns with no null values in\n",
    "predictors_categorical_only = predictors.select_dtypes(include=['object'])\n",
    "predictors_full_categorical_only = [col for col in predictors_categorical_only.columns\n",
    "                                   if not predictors_categorical_only[col].isnull().any()]\n",
    "# getdummies\n",
    "categorical_predictors = data[predictors_full_categorical_only]\n",
    "categorical_predictors_dummies = pd.get_dummies(categorical_predictors)\n",
    "\n",
    "# already have numeric_predictors, so concatenate the two sets of features\n",
    "concat_predictors = pd.concat([numeric_predictors, categorical_predictors_dummies], axis=1, sort=False)\n",
    "\n",
    "target = y.values\n",
    "\n",
    "xTrain, xValidate, yTrain, yValidate = train_test_split(concat_predictors, target, train_size=0.7, test_size=0.3, random_state=0)\n",
    "\n",
    "my_imputer = Imputer()\n",
    "xTrain = my_imputer.fit_transform(xTrain)\n",
    "xValidate = my_imputer.transform(xValidate)\n",
    "\n",
    "print(\"Mean Absolute Error: \")\n",
    "print(score_dataset(xTrain, xValidate, yTrain, yValidate))\n",
    "print(\"Negative Mean Cross Validated Absolute Error\")\n",
    "print(get_mae(np.concatenate((xTrain, xValidate)), np.concatenate((yTrain, yValidate))))"
   ]
  },
  {
   "cell_type": "code",
   "execution_count": 15,
   "metadata": {},
   "outputs": [
    {
     "name": "stdout",
     "output_type": "stream",
     "text": [
      "Mean Absolute Error: \n",
      "16801.577580978883\n"
     ]
    }
   ],
   "source": [
    "# Learning to Use XGBoost\n",
    "from xgboost import XGBRegressor\n",
    "\n",
    "def score_dataset_xgboost(X_train, X_test, y_train, y_test):\n",
    "    model = XGBRegressor(n_estimators=1000, learning_rate=0.05)\n",
    "    model.fit(X_train, y_train, early_stopping_rounds=5, eval_set=[(X_test, y_test)], verbose=False)\n",
    "    preds = model.predict(X_test)\n",
    "    return mean_absolute_error(y_test, preds)\n",
    "\n",
    "xTrain, xValidate, yTrain, yValidate = train_test_split(concat_predictors, target, train_size=0.7, test_size=0.3, random_state=0)\n",
    "\n",
    "my_imputer = Imputer()\n",
    "xTrain = my_imputer.fit_transform(xTrain)\n",
    "xValidate = my_imputer.transform(xValidate)\n",
    "\n",
    "print(\"Mean Absolute Error: \")\n",
    "print(score_dataset_xgboost(xTrain, xValidate, yTrain, yValidate))"
   ]
  },
  {
   "cell_type": "code",
   "execution_count": 16,
   "metadata": {},
   "outputs": [
    {
     "name": "stdout",
     "output_type": "stream",
     "text": [
      "Mean Absolute Error: 16295.716415917843\n"
     ]
    },
    {
     "data": {
      "image/png": "[encoded data removed]",
      "text/plain": [
       "<Figure size 432x288 with 3 Axes>"
      ]
     },
     "metadata": {},
     "output_type": "display_data"
    }
   ],
   "source": [
    "# Partial Dependence Plots\n",
    "from sklearn.ensemble import GradientBoostingRegressor\n",
    "\n",
    "gbRegressor = GradientBoostingRegressor(n_estimators=1000, learning_rate=0.05)\n",
    "gbRegressor.fit(xTrain, yTrain)\n",
    "print(\"Mean Absolute Error: \" + str(mean_absolute_error(yValidate, gbRegressor.predict(xValidate))))\n",
    "\n",
    "from sklearn.ensemble.partial_dependence import partial_dependence, plot_partial_dependence\n",
    "\n",
    "my_plots = plot_partial_dependence(gbRegressor, \n",
    "                                   features=[0,1,2],\n",
    "                                   X=xTrain, \n",
    "                                   feature_names=['LotArea', 'OverallCond', 'FullBath'], \n",
    "                                   grid_resolution=10)"
   ]
  },
  {
   "cell_type": "code",
   "execution_count": 17,
   "metadata": {},
   "outputs": [
    {
     "name": "stdout",
     "output_type": "stream",
     "text": [
      "Mean Absolute Error: 17149.646849315068\n"
     ]
    }
   ],
   "source": [
    "# Pipelines\n",
    "from sklearn.pipeline import make_pipeline\n",
    "\n",
    "xTrain, xTest, yTrain, yTest = train_test_split(concat_predictors, target, train_size=0.7, test_size=0.3, random_state=0)\n",
    "\n",
    "my_pipeline = make_pipeline(Imputer(), RandomForestRegressor(50))\n",
    "my_pipeline.fit(xTrain, yTrain)\n",
    "predictions = my_pipeline.predict(xTest)\n",
    "print(\"Mean Absolute Error: \" + str(mean_absolute_error(yTest, predictions)))"
   ]
  },
  {
   "cell_type": "code",
   "execution_count": 18,
   "metadata": {},
   "outputs": [
    {
     "name": "stdout",
     "output_type": "stream",
     "text": [
      "[-17839.23798768 -17568.30262834 -19194.63790123]\n",
      "Mean Absolute Error 18200.726172\n",
      "Mean Absolute Error minus LotArea 18323.646625\n",
      "Mean Absolute Error minus OverallCond 18399.169178\n",
      "Mean Absolute Error minus FullBath 18366.870621\n"
     ]
    }
   ],
   "source": [
    "# Cross-Validation\n",
    "my_pipeline = make_pipeline(Imputer(), RandomForestRegressor(50))\n",
    "scores = cross_val_score(my_pipeline, concat_predictors, target, scoring='neg_mean_absolute_error')\n",
    "print(scores)\n",
    "print('Mean Absolute Error %2f' %(-1 * scores.mean()))\n",
    "\n",
    "concat_predictors_minus_LotArea = concat_predictors.drop(['LotArea'], axis=1)\n",
    "concat_predictors_minus_OverallCond = concat_predictors.drop(['OverallCond'], axis=1)\n",
    "concat_predictors_minus_FullBath = concat_predictors.drop(['FullBath'], axis=1)\n",
    "pipeline_minus_LotArea = make_pipeline(Imputer(), RandomForestRegressor(50))\n",
    "pipeline_minus_OverallCond = make_pipeline(Imputer(), RandomForestRegressor(50))\n",
    "pipeline_minus_FullBath = make_pipeline(Imputer(), RandomForestRegressor(50))\n",
    "scores_minus_LotArea = cross_val_score(pipeline_minus_LotArea, concat_predictors_minus_LotArea, target, scoring='neg_mean_absolute_error')\n",
    "scores_minus_OverallCond = cross_val_score(pipeline_minus_OverallCond, concat_predictors_minus_OverallCond, target, scoring='neg_mean_absolute_error')\n",
    "scores_minus_FullBath = cross_val_score(pipeline_minus_FullBath, concat_predictors_minus_FullBath, target, scoring='neg_mean_absolute_error')\n",
    "print('Mean Absolute Error minus LotArea %2f' %(-1 * scores_minus_LotArea.mean()))\n",
    "print('Mean Absolute Error minus OverallCond %2f' %(-1 * scores_minus_OverallCond.mean()))\n",
    "print('Mean Absolute Error minus FullBath %2f' %(-1 * scores_minus_FullBath.mean()))"
   ]
  },
  {
   "cell_type": "code",
   "execution_count": null,
   "metadata": {},
   "outputs": [],
   "source": [
    "# Data leakage\n",
    "# No exercise. "
   ]
  }
 ],
 "metadata": {
  "kernelspec": {
   "display_name": "Python 3",
   "language": "python",
   "name": "python3"
  },
  "language_info": {
   "codemirror_mode": {
    "name": "ipython",
    "version": 3
   },
   "file_extension": ".py",
   "mimetype": "text/x-python",
   "name": "python",
   "nbconvert_exporter": "python",
   "pygments_lexer": "ipython3",
   "version": "3.6.5"
  }
 },
 "nbformat": 4,
 "nbformat_minor": 2
}
