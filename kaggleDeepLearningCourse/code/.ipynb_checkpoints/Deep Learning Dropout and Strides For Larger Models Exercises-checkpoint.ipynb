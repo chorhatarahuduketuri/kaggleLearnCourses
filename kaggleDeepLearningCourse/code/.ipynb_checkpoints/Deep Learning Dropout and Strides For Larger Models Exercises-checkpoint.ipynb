{
 "cells": [
  {
   "cell_type": "markdown",
   "metadata": {},
   "source": [
    "# Exercise: Dropout and Strides For Larger Models"
   ]
  },
  {
   "cell_type": "markdown",
   "metadata": {},
   "source": [
    "## Starter Code"
   ]
  },
  {
   "cell_type": "markdown",
   "metadata": {},
   "source": [
    "### Data Preparation\n",
    "###### You need to run this cell of code"
   ]
  },
  {
   "cell_type": "code",
   "execution_count": 1,
   "metadata": {},
   "outputs": [
    {
     "name": "stderr",
     "output_type": "stream",
     "text": [
      "/usr/lib/python3.6/importlib/_bootstrap.py:219: RuntimeWarning: numpy.dtype size changed, may indicate binary incompatibility. Expected 96, got 88\n",
      "  return f(*args, **kwds)\n",
      "/usr/lib/python3.6/importlib/_bootstrap.py:219: RuntimeWarning: numpy.dtype size changed, may indicate binary incompatibility. Expected 96, got 88\n",
      "  return f(*args, **kwds)\n"
     ]
    }
   ],
   "source": [
    "import numpy as np\n",
    "from sklearn.model_selection import train_test_split\n",
    "from tensorflow.python import keras\n",
    "\n",
    "img_rows, img_cols = 28, 28\n",
    "num_classes = 10\n",
    "\n",
    "def prep_data(raw, train_size, val_size):\n",
    "    y = raw[:, 0]\n",
    "    out_y = keras.utils.to_categorical(y, num_classes)\n",
    "    \n",
    "    x = raw[:, 1:]\n",
    "    num_images = raw.shape[0]\n",
    "    out_x = x.reshape(num_images, img_rows, img_cols, 1)\n",
    "    out_x = out_x / 255\n",
    "    return out_x, out_y\n",
    "\n",
    "fashion_file = \"../input/fashionmnist/fashion-mnist_train.csv\"\n",
    "fashion_data = np.loadtxt(fashion_file, skiprows=1, delimiter=',')\n",
    "x, y = prep_data(fashion_data, train_size=50000, val_size=5000)"
   ]
  },
  {
   "cell_type": "markdown",
   "metadata": {},
   "source": [
    "### Sample Model Code"
   ]
  },
  {
   "cell_type": "code",
   "execution_count": 2,
   "metadata": {},
   "outputs": [],
   "source": [
    "# fashion_model = Sequential()\n",
    "# fashion_model.add(Conv2D(12, \n",
    "#                          kernel_size=(3,3), \n",
    "#                          strides=2,\n",
    "#                          activation='relu',\n",
    "#                          input_shape=(img_rows, img_cols, 1)))\n",
    "# fashion_model.add(Conv2D(12, kernel_size=(3, 3), strides=2, activation='relu'))\n",
    "# fashion_model.add(Flatten())\n",
    "# fashion_model.add(Dense(128, activation='relu'))\n",
    "# fashion_model.add(Dense(num_classes, activation='softmax'))\n",
    "\n",
    "# fashion_model.compile(loss=keras.losses.categorical_crossentropy,\n",
    "#                       optimizer='adam',\n",
    "#                       metrics=['accuracy'])\n",
    "\n",
    "# fashion_model.fit(train_x, \n",
    "#                   train_y, \n",
    "#                   batch_size=batch_size,\n",
    "#                   epochs=epochs,\n",
    "#                   validation_split=0.2)"
   ]
  },
  {
   "cell_type": "markdown",
   "metadata": {},
   "source": [
    "### Adding Strides\n",
    "Specify, compile and fit a model much like the model above, but specify a stride length of 2 for each convolutional layer. Call your new model `fashion_model_1`. "
   ]
  },
  {
   "cell_type": "code",
   "execution_count": 3,
   "metadata": {},
   "outputs": [
    {
     "name": "stdout",
     "output_type": "stream",
     "text": [
      "Train on 48000 samples, validate on 12000 samples\n",
      "Epoch 1/4\n",
      "48000/48000 [==============================] - 5s 96us/step - loss: 0.6366 - acc: 0.7814 - val_loss: 0.4514 - val_acc: 0.8416\n",
      "Epoch 2/4\n",
      "48000/48000 [==============================] - 5s 95us/step - loss: 0.4131 - acc: 0.8525 - val_loss: 0.3993 - val_acc: 0.8577\n",
      "Epoch 3/4\n",
      "48000/48000 [==============================] - 4s 93us/step - loss: 0.3630 - acc: 0.8703 - val_loss: 0.3524 - val_acc: 0.8734\n",
      "Epoch 4/4\n",
      "48000/48000 [==============================] - 4s 88us/step - loss: 0.3308 - acc: 0.8807 - val_loss: 0.3347 - val_acc: 0.8802\n"
     ]
    },
    {
     "data": {
      "text/plain": [
       "<tensorflow.python.keras.callbacks.History at 0x7f819d1b6358>"
      ]
     },
     "execution_count": 3,
     "metadata": {},
     "output_type": "execute_result"
    }
   ],
   "source": [
    "from tensorflow.python.keras.models import Sequential\n",
    "from tensorflow.python.keras.layers import Dense, Flatten, Conv2D, Dropout\n",
    "\n",
    "fashion_model_1 = Sequential()\n",
    "# Specify the rest of the model\n",
    "fashion_model_1.add(Conv2D(12,\n",
    "                           kernel_size=(3,3),\n",
    "                           strides=2,\n",
    "                           activation='relu',\n",
    "                           input_shape=(img_rows, img_cols, 1)))\n",
    "fashion_model_1.add(Conv2D(12, kernel_size=(3,3), strides=2, activation='relu'))\n",
    "fashion_model_1.add(Flatten())\n",
    "fashion_model_1.add(Dense(128, activation='relu'))\n",
    "fashion_model_1.add(Dense(num_classes, activation='softmax'))\n",
    "\n",
    "# Compile fashion_model_1\n",
    "fashion_model_1.compile(loss=keras.losses.categorical_crossentropy,\n",
    "                        optimizer='adam',\n",
    "                        metrics=['accuracy'])\n",
    "\n",
    "# Fit fashion_model_1\n",
    "fashion_model_1.fit(x,\n",
    "                    y,\n",
    "                    batch_size=100,\n",
    "                    epochs=4,\n",
    "                    validation_split=0.2)"
   ]
  },
  {
   "cell_type": "markdown",
   "metadata": {},
   "source": [
    "### Make Model Larger\n",
    "You should have noticed that `fashion_model_1` trained pretty quickly. This makes it reasonable to make the model larger. Specify a new model called `fashion_model_2` that is identical to `fashion_model_1`, except:\n",
    "1. Add an additional `Conv2D` layer immediately before the `Flatten` layer. Make it similar to the `Conv2D` layers you already have, except don't set the stride length in this new layer (we have already shrunk the representation enough with the existing layers).\n",
    "2. Change the number of filters in each convolutional layer to `24`. \n",
    "After Specifying `fashion_model_2`, compile and fit it. "
   ]
  },
  {
   "cell_type": "code",
   "execution_count": 4,
   "metadata": {},
   "outputs": [
    {
     "name": "stdout",
     "output_type": "stream",
     "text": [
      "Train on 48000 samples, validate on 12000 samples\n",
      "Epoch 1/4\n",
      "48000/48000 [==============================] - 6s 129us/step - loss: 0.6389 - acc: 0.7726 - val_loss: 0.4638 - val_acc: 0.8345\n",
      "Epoch 2/4\n",
      "48000/48000 [==============================] - 7s 151us/step - loss: 0.4150 - acc: 0.8493 - val_loss: 0.3963 - val_acc: 0.8588\n",
      "Epoch 3/4\n",
      "48000/48000 [==============================] - 7s 147us/step - loss: 0.3602 - acc: 0.8700 - val_loss: 0.3741 - val_acc: 0.8645\n",
      "Epoch 4/4\n",
      "48000/48000 [==============================] - 7s 137us/step - loss: 0.3315 - acc: 0.8781 - val_loss: 0.3286 - val_acc: 0.8807\n"
     ]
    },
    {
     "data": {
      "text/plain": [
       "<tensorflow.python.keras.callbacks.History at 0x7f81a464e630>"
      ]
     },
     "execution_count": 4,
     "metadata": {},
     "output_type": "execute_result"
    }
   ],
   "source": [
    "from tensorflow.python.keras.models import Sequential\n",
    "from tensorflow.python.keras.layers import Dense, Flatten, Conv2D, Dropout\n",
    "\n",
    "fashion_model_2 = Sequential()\n",
    "# Specify the rest of the model\n",
    "fashion_model_2.add(Conv2D(24,\n",
    "                           kernel_size=(3,3),\n",
    "                           strides=2,\n",
    "                           activation='relu',\n",
    "                           input_shape=(img_rows, img_cols, 1)))\n",
    "fashion_model_2.add(Conv2D(24, kernel_size=(3,3), strides=2, activation='relu'))\n",
    "fashion_model_2.add(Conv2D(24, kernel_size=(3,3), activation='relu'))\n",
    "fashion_model_2.add(Flatten())\n",
    "fashion_model_2.add(Dense(128, activation='relu'))\n",
    "fashion_model_2.add(Dense(num_classes, activation='softmax'))\n",
    "\n",
    "# Compile fashion_model_2\n",
    "fashion_model_2.compile(loss=keras.losses.categorical_crossentropy,\n",
    "                        optimizer='adam',\n",
    "                        metrics=['accuracy'])\n",
    "\n",
    "# Fit fashion_model_2\n",
    "fashion_model_2.fit(x,\n",
    "                    y,\n",
    "                    batch_size=100,\n",
    "                    epochs=4,\n",
    "                    validation_split=0.2)"
   ]
  },
  {
   "cell_type": "markdown",
   "metadata": {},
   "source": [
    "### Add Dropout\n",
    "Specify `fashion_model_3`, which is identical to `fashion_model_2` except that it adds dropout immeidately after each convolutional layer (so it adds dropout 3 times).\n",
    "Compile and fit this model. Compare the model's performance on validation data to the previous models. "
   ]
  },
  {
   "cell_type": "code",
   "execution_count": 5,
   "metadata": {},
   "outputs": [
    {
     "name": "stdout",
     "output_type": "stream",
     "text": [
      "Train on 48000 samples, validate on 12000 samples\n",
      "Epoch 1/4\n",
      "48000/48000 [==============================] - 9s 180us/step - loss: 0.9727 - acc: 0.6365 - val_loss: 0.5825 - val_acc: 0.7710\n",
      "Epoch 2/4\n",
      "48000/48000 [==============================] - 8s 175us/step - loss: 0.6454 - acc: 0.7544 - val_loss: 0.5113 - val_acc: 0.8131\n",
      "Epoch 3/4\n",
      "48000/48000 [==============================] - 8s 171us/step - loss: 0.5820 - acc: 0.7799 - val_loss: 0.4636 - val_acc: 0.8247\n",
      "Epoch 4/4\n",
      "48000/48000 [==============================] - 8s 172us/step - loss: 0.5449 - acc: 0.7946 - val_loss: 0.4300 - val_acc: 0.8417\n"
     ]
    },
    {
     "data": {
      "text/plain": [
       "<tensorflow.python.keras.callbacks.History at 0x7f819d3b0e80>"
      ]
     },
     "execution_count": 5,
     "metadata": {},
     "output_type": "execute_result"
    }
   ],
   "source": [
    "from tensorflow.python.keras.models import Sequential\n",
    "from tensorflow.python.keras.layers import Dense, Flatten, Conv2D, Dropout\n",
    "\n",
    "fashion_model_3 = Sequential()\n",
    "# Specify the rest of the model\n",
    "fashion_model_3.add(Conv2D(24,\n",
    "                           kernel_size=(3,3),\n",
    "                           strides=2,\n",
    "                           activation='relu',\n",
    "                           input_shape=(img_rows, img_cols, 1)))\n",
    "fashion_model_3.add(Dropout(0.5))\n",
    "fashion_model_3.add(Conv2D(24, kernel_size=(3,3), strides=2, activation='relu'))\n",
    "fashion_model_3.add(Dropout(0.5))\n",
    "fashion_model_3.add(Conv2D(24, kernel_size=(3,3), activation='relu'))\n",
    "fashion_model_3.add(Dropout(0.5))\n",
    "fashion_model_3.add(Flatten())\n",
    "fashion_model_3.add(Dense(128, activation='relu'))\n",
    "fashion_model_3.add(Dense(num_classes, activation='softmax'))\n",
    "\n",
    "# Compile fashion_model_3\n",
    "fashion_model_3.compile(loss=keras.losses.categorical_crossentropy,\n",
    "                        optimizer='adam',\n",
    "                        metrics=['accuracy'])\n",
    "\n",
    "# Fit fashion_model_3\n",
    "fashion_model_3.fit(x,\n",
    "                    y,\n",
    "                    batch_size=100,\n",
    "                    epochs=4,\n",
    "                    validation_split=0.2)"
   ]
  }
 ],
 "metadata": {
  "kernelspec": {
   "display_name": "Python 3",
   "language": "python",
   "name": "python3"
  },
  "language_info": {
   "codemirror_mode": {
    "name": "ipython",
    "version": 3
   },
   "file_extension": ".py",
   "mimetype": "text/x-python",
   "name": "python",
   "nbconvert_exporter": "python",
   "pygments_lexer": "ipython3",
   "version": "3.6.5"
  }
 },
 "nbformat": 4,
 "nbformat_minor": 2
}
