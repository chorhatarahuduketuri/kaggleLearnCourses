{
 "cells": [
  {
   "cell_type": "markdown",
   "metadata": {},
   "source": [
    "# Exercise: Modeling from Scratch"
   ]
  },
  {
   "cell_type": "markdown",
   "metadata": {},
   "source": [
    "## Data Preparation"
   ]
  },
  {
   "cell_type": "code",
   "execution_count": 1,
   "metadata": {},
   "outputs": [
    {
     "name": "stderr",
     "output_type": "stream",
     "text": [
      "/usr/lib/python3.6/importlib/_bootstrap.py:219: RuntimeWarning: numpy.dtype size changed, may indicate binary incompatibility. Expected 96, got 88\n",
      "  return f(*args, **kwds)\n",
      "/usr/lib/python3.6/importlib/_bootstrap.py:219: RuntimeWarning: numpy.dtype size changed, may indicate binary incompatibility. Expected 96, got 88\n",
      "  return f(*args, **kwds)\n"
     ]
    }
   ],
   "source": [
    "import numpy as np\n",
    "from sklearn.model_selection import train_test_split\n",
    "from tensorflow.python import keras\n",
    "\n",
    "img_rows, img_cols = 28, 28\n",
    "num_classes = 10\n",
    "\n",
    "def prep_data(raw, train_size, val_size):\n",
    "    y = raw[:, 0]\n",
    "    out_y = keras.utils.to_categorical(y, num_classes)\n",
    "    \n",
    "    x = raw[:,1:]\n",
    "    num_images = raw.shape[0]\n",
    "    out_x = x.reshape(num_images, img_rows, img_cols, 1)\n",
    "    out_x = out_x / 255\n",
    "    return out_x, out_y\n",
    "\n",
    "fashion_file = \"../input/fashionmnist/fashion-mnist_train.csv\"\n",
    "fashion_data = np.loadtxt(fashion_file, skiprows=1, delimiter=',')\n",
    "x, y = prep_data(fashion_data, train_size=5000, val_size=5000)"
   ]
  },
  {
   "cell_type": "markdown",
   "metadata": {},
   "source": [
    "## Specify Model\n",
    "###### STEPS:\n",
    "\n",
    "1. Create a `Sequential` model. Call it `fashion_model`.\n",
    "2. Add 3 `Conv2D` layers to `fashion_model`. Make each layer have 12 filters, a kernel_size of 3 and a **relu** activation. You will need to specify the `input_shape` for the first `Conv2D` layer. The input shape in this case is `(img_rows, img_cols, 1)`.\n",
    "3. Add a `Flatten` layer to `fashion_model` after the last `Conv2D` layer.\n",
    "4. Add a `Dense` layer with 100 neurons to `fashion_model` after the `Flatten` layer.\n",
    "5. Add your prediction layer to `fashion_model`. This is a `Dense` layer. We alrady have a variable called `num_classes`. Use this variable when specifying the number of nodes in this layer. The activation should be `softmax` (or you will have problems later)."
   ]
  },
  {
   "cell_type": "code",
   "execution_count": 2,
   "metadata": {},
   "outputs": [],
   "source": [
    "from tensorflow.python import keras\n",
    "from tensorflow.python.keras.models import Sequential\n",
    "from tensorflow.python.keras.layers import Dense, Flatten, Conv2D\n",
    "\n",
    "fashion_model = Sequential()\n",
    "fashion_model.add(Conv2D(12, kernel_size=(3,3), activation='relu', input_shape=(img_rows, img_cols, 1)))\n",
    "fashion_model.add(Conv2D(12, kernel_size=(3,3), activation='relu'))\n",
    "fashion_model.add(Conv2D(12, kernel_size=(3,3), activation='relu'))\n",
    "fashion_model.add(Flatten())\n",
    "fashion_model.add(Dense(100, activation='relu'))\n",
    "fashion_model.add(Dense(num_classes, activation='softmax'))"
   ]
  },
  {
   "cell_type": "markdown",
   "metadata": {},
   "source": [
    "## Compile Model\n",
    "Run the command `fashion_model.compile`. Specify the following arguments:\n",
    "1. `loss = keras.losses.categorical_crossentropy`\n",
    "2. `optimizer = 'adam'`\n",
    "3. `metrics = ['accuracy']`"
   ]
  },
  {
   "cell_type": "code",
   "execution_count": 3,
   "metadata": {},
   "outputs": [],
   "source": [
    "fashion_model.compile(\n",
    "    loss=keras.losses.categorical_crossentropy, \n",
    "    optimizer='adam', \n",
    "    metrics=['accuracy'])"
   ]
  },
  {
   "cell_type": "markdown",
   "metadata": {},
   "source": [
    "## Fit Model\n",
    "Run the command `fashion_model.fit`. The arguments you will use are\n",
    "1. The first two arguments are the data used to fit the model, which are `x` and `y` respectively. \n",
    "2. `batch_size = 100`\n",
    "3. `epochs = 4`\n",
    "4. `validation_split = 0.2`"
   ]
  },
  {
   "cell_type": "code",
   "execution_count": 4,
   "metadata": {},
   "outputs": [
    {
     "name": "stdout",
     "output_type": "stream",
     "text": [
      "Train on 48000 samples, validate on 12000 samples\n",
      "Epoch 1/4\n",
      "48000/48000 [==============================] - 37s 769us/step - loss: 0.4636 - acc: 0.8333 - val_loss: 0.3610 - val_acc: 0.8722\n",
      "Epoch 2/4\n",
      "48000/48000 [==============================] - 34s 715us/step - loss: 0.3159 - acc: 0.8842 - val_loss: 0.3026 - val_acc: 0.8919\n",
      "Epoch 3/4\n",
      "48000/48000 [==============================] - 35s 722us/step - loss: 0.2591 - acc: 0.9052 - val_loss: 0.2917 - val_acc: 0.8965\n",
      "Epoch 4/4\n",
      "48000/48000 [==============================] - 35s 723us/step - loss: 0.2234 - acc: 0.9185 - val_loss: 0.2863 - val_acc: 0.8993\n"
     ]
    },
    {
     "data": {
      "text/plain": [
       "<tensorflow.python.keras.callbacks.History at 0x7fc602de9a20>"
      ]
     },
     "execution_count": 4,
     "metadata": {},
     "output_type": "execute_result"
    }
   ],
   "source": [
    "fashion_model.fit(\n",
    "    x, \n",
    "    y, \n",
    "    batch_size = 100, \n",
    "    epochs = 4, \n",
    "    validation_split = 0.2)"
   ]
  }
 ],
 "metadata": {
  "kernelspec": {
   "display_name": "Python 3",
   "language": "python",
   "name": "python3"
  },
  "language_info": {
   "codemirror_mode": {
    "name": "ipython",
    "version": 3
   },
   "file_extension": ".py",
   "mimetype": "text/x-python",
   "name": "python",
   "nbconvert_exporter": "python",
   "pygments_lexer": "ipython3",
   "version": "3.6.5"
  }
 },
 "nbformat": 4,
 "nbformat_minor": 2
}
