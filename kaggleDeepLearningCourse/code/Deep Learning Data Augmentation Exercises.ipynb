{
 "cells": [
  {
   "cell_type": "markdown",
   "metadata": {},
   "source": [
    "# Exercise: Data Augmentation"
   ]
  },
  {
   "cell_type": "markdown",
   "metadata": {},
   "source": [
    "## Specify and Compile the Model"
   ]
  },
  {
   "cell_type": "code",
   "execution_count": 1,
   "metadata": {},
   "outputs": [
    {
     "name": "stderr",
     "output_type": "stream",
     "text": [
      "/usr/lib/python3.6/importlib/_bootstrap.py:219: RuntimeWarning: numpy.dtype size changed, may indicate binary incompatibility. Expected 96, got 88\n",
      "  return f(*args, **kwds)\n",
      "/usr/lib/python3.6/importlib/_bootstrap.py:219: RuntimeWarning: numpy.dtype size changed, may indicate binary incompatibility. Expected 96, got 88\n",
      "  return f(*args, **kwds)\n"
     ]
    }
   ],
   "source": [
    "from tensorflow.python.keras.applications import ResNet50\n",
    "from tensorflow.python.keras.models import Sequential\n",
    "from tensorflow.python.keras.layers import Dense, Flatten, GlobalAveragePooling2D\n",
    "\n",
    "num_classes = 2\n",
    "resnet_weights_path = '../input/ResNet-50/resnet50_weights_tf_dim_ordering_tf_kernels_notop.h5'\n",
    "\n",
    "# Make a new blank sequential model\n",
    "my_new_model = Sequential()\n",
    "# Add the ResNet model as the first layer, with all it's pre-trained weights,\n",
    "# but cut off the top of it, so that I get all it's learning but none of it's\n",
    "# answers - I'm going to use it's shape and component detection to learn to \n",
    "# identify different items - items I specify. \n",
    "my_new_model.add(ResNet50(include_top=False, pooling='avg', weights=resnet_weights_path))\n",
    "# Add a final layer to the model, on top of the ResNet layer, which can learn to \n",
    "# add up the results of the ResNet layer and determine which of the two classes\n",
    "# I define the input is. \n",
    "my_new_model.add(Dense(num_classes, activation='softmax'))\n",
    "\n",
    "# layer 0 is the ResNet layer, and it's already changed - I don't want to \n",
    "# change it (it's already pretty good) and I probably don't have the computational \n",
    "# power to create it anyway. \n",
    "my_new_model.layers[0].trainable = False\n",
    "\n",
    "# Now it's all set up, compile the model into something that can be trained and used. \n",
    "my_new_model.compile(optimizer='sgd', loss='categorical_crossentropy', metrics=['accuracy'])"
   ]
  },
  {
   "cell_type": "markdown",
   "metadata": {},
   "source": [
    "## Fit the Model Using Data Augmentation"
   ]
  },
  {
   "cell_type": "code",
   "execution_count": 2,
   "metadata": {},
   "outputs": [
    {
     "name": "stdout",
     "output_type": "stream",
     "text": [
      "Found 220 images belonging to 2 classes.\n",
      "Found 217 images belonging to 2 classes.\n",
      "Epoch 1/3\n",
      "19/19 [==============================] - 120s 6s/step - loss: 0.4937 - acc: 0.7676 - val_loss: 0.3080 - val_acc: 0.8618\n",
      "Epoch 2/3\n",
      "19/19 [==============================] - 85s 4s/step - loss: 0.2577 - acc: 0.9121 - val_loss: 0.1776 - val_acc: 0.9447\n",
      "Epoch 3/3\n",
      "19/19 [==============================] - 87s 5s/step - loss: 0.1691 - acc: 0.9605 - val_loss: 0.1383 - val_acc: 0.9493\n"
     ]
    },
    {
     "data": {
      "text/plain": [
       "<tensorflow.python.keras.callbacks.History at 0x7f7e903a3828>"
      ]
     },
     "execution_count": 2,
     "metadata": {},
     "output_type": "execute_result"
    }
   ],
   "source": [
    "from tensorflow.python.keras.applications.resnet50 import preprocess_input\n",
    "from tensorflow.python.keras.preprocessing.image import ImageDataGenerator\n",
    "\n",
    "image_size = 224\n",
    "\n",
    "# Specify the values for all arguments to data_generator_with_aug.\n",
    "data_generator_with_aug = ImageDataGenerator(preprocessing_function=preprocess_input, \n",
    "                                            horizontal_flip=True, \n",
    "                                            width_shift_range=0.2,\n",
    "                                            height_shift_range=0.2)\n",
    "data_generator_no_aug = ImageDataGenerator(preprocessing_function=preprocess_input)\n",
    "\n",
    "# Specify which type of ImageDataGenerator above is to load in training data.\n",
    "train_generator = data_generator_with_aug.flow_from_directory(\n",
    "    directory='../input/dogs-gone-sideways/images/train',\n",
    "    target_size=(image_size, image_size),\n",
    "    batch_size=12,\n",
    "    class_mode='categorical')\n",
    "\n",
    "# Specify which type of ImageDataGenerator above is to load in validation data.\n",
    "validation_generator = data_generator_no_aug.flow_from_directory(\n",
    "    directory='../input/dogs-gone-sideways/images/val',\n",
    "    target_size=(image_size, image_size),\n",
    "    class_mode='categorical')\n",
    "\n",
    "my_new_model.fit_generator(\n",
    "    train_generator,\n",
    "    epochs = 3, \n",
    "    steps_per_epoch=19,\n",
    "    validation_data=validation_generator)"
   ]
  }
 ],
 "metadata": {
  "kernelspec": {
   "display_name": "Python 3",
   "language": "python",
   "name": "python3"
  },
  "language_info": {
   "codemirror_mode": {
    "name": "ipython",
    "version": 3
   },
   "file_extension": ".py",
   "mimetype": "text/x-python",
   "name": "python",
   "nbconvert_exporter": "python",
   "pygments_lexer": "ipython3",
   "version": "3.6.5"
  }
 },
 "nbformat": 4,
 "nbformat_minor": 2
}
